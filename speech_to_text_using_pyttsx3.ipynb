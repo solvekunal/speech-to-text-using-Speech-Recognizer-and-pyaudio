{
 "cells": [
  {
   "cell_type": "code",
   "execution_count": 1,
   "id": "9d044cc6-3ad4-4b37-af73-a6f07fc679e7",
   "metadata": {},
   "outputs": [
    {
     "name": "stdout",
     "output_type": "stream",
     "text": [
      "Collecting pyttsx3\n",
      "  Downloading pyttsx3-2.90-py3-none-any.whl.metadata (3.6 kB)\n",
      "Collecting comtypes (from pyttsx3)\n",
      "  Downloading comtypes-1.4.5-py3-none-any.whl.metadata (6.4 kB)\n",
      "Collecting pypiwin32 (from pyttsx3)\n",
      "  Downloading pypiwin32-223-py3-none-any.whl.metadata (236 bytes)\n",
      "Requirement already satisfied: pywin32 in e:\\new_downloads_default_folder\\anaconda_destination_folder\\lib\\site-packages (from pyttsx3) (305.1)\n",
      "Downloading pyttsx3-2.90-py3-none-any.whl (39 kB)\n",
      "Downloading comtypes-1.4.5-py3-none-any.whl (219 kB)\n",
      "   ---------------------------------------- 0.0/219.4 kB ? eta -:--:--\n",
      "   ------------- -------------------------- 71.7/219.4 kB 3.8 MB/s eta 0:00:01\n",
      "   -------------------------- ------------- 143.4/219.4 kB 1.7 MB/s eta 0:00:01\n",
      "   ---------------------------------------  215.0/219.4 kB 1.6 MB/s eta 0:00:01\n",
      "   ---------------------------------------- 219.4/219.4 kB 1.3 MB/s eta 0:00:00\n",
      "Downloading pypiwin32-223-py3-none-any.whl (1.7 kB)\n",
      "Installing collected packages: pypiwin32, comtypes, pyttsx3\n",
      "Successfully installed comtypes-1.4.5 pypiwin32-223 pyttsx3-2.90\n"
     ]
    }
   ],
   "source": [
    "!pip install pyttsx3"
   ]
  },
  {
   "cell_type": "code",
   "execution_count": 2,
   "id": "251fc13a-0148-4cfc-a406-ca48914c06c9",
   "metadata": {},
   "outputs": [],
   "source": [
    "import pyttsx3"
   ]
  },
  {
   "cell_type": "code",
   "execution_count": 3,
   "id": "2c7d781a-bc07-45db-9fcd-fed2db86d8ca",
   "metadata": {},
   "outputs": [],
   "source": [
    "# Initialize the TTS engine\n",
    "engine = pyttsx3.init()"
   ]
  },
  {
   "cell_type": "code",
   "execution_count": 4,
   "id": "e3fc26c3-64ad-4472-8db6-d6feeab0184d",
   "metadata": {},
   "outputs": [],
   "source": [
    "# Set properties before adding anything to speak\n",
    "engine.setProperty('rate', 150)    # Speed of speech\n",
    "engine.setProperty('volume', 0.9)  # Volume level (0.0 to 1.0)"
   ]
  },
  {
   "cell_type": "code",
   "execution_count": 6,
   "id": "0f21845c-3803-412f-aef2-07ab9a1fd5c4",
   "metadata": {},
   "outputs": [],
   "source": [
    "# Text you want to convert to speech\n",
    "text = \"mera naam kunal singh hai. tumhara naam kya hai?\"\n",
    "\n",
    "# Queue the text for speaking\n",
    "engine.say(text)\n",
    "\n",
    "# Block while processing all the currently queued commands\n",
    "engine.runAndWait()"
   ]
  },
  {
   "cell_type": "code",
   "execution_count": 10,
   "id": "d79d7c58-084b-4ce8-8e35-26601ed9d908",
   "metadata": {},
   "outputs": [],
   "source": [
    "# Get a list of available voices\n",
    "voices=engine.getProperty('voices')"
   ]
  },
  {
   "cell_type": "code",
   "execution_count": 28,
   "id": "2ba23b0b-42e7-4b85-b163-41594f78d090",
   "metadata": {},
   "outputs": [],
   "source": [
    "# Set the voice by index (0 for male, 1 for female)\n",
    "engine.setProperty('voice', voices[0].id)"
   ]
  },
  {
   "cell_type": "code",
   "execution_count": 17,
   "id": "e5896dc1-62bd-4150-9c02-8e817460cda4",
   "metadata": {},
   "outputs": [],
   "source": [
    "# Test the new voice\n",
    "engine.say(\"This is a different voice.\")\n",
    "engine.runAndWait()"
   ]
  },
  {
   "cell_type": "markdown",
   "id": "bc98f45c-58fc-43fe-865a-67e038573b78",
   "metadata": {},
   "source": [
    "# LETS, CHECK THE VOICES AVAILABLE IN THIS LIBRARY"
   ]
  },
  {
   "cell_type": "code",
   "execution_count": 19,
   "id": "4f855a1b-59ce-4ac2-adfc-07216d9be3d8",
   "metadata": {},
   "outputs": [],
   "source": [
    "voices = engine.getProperty('voices')"
   ]
  },
  {
   "cell_type": "code",
   "execution_count": 21,
   "id": "51f29e1b-e491-4825-b163-176330460e12",
   "metadata": {},
   "outputs": [
    {
     "name": "stdout",
     "output_type": "stream",
     "text": [
      "Microsoft David Desktop - English (United States)\n",
      "Microsoft Zira Desktop - English (United States)\n"
     ]
    }
   ],
   "source": [
    "for i in voices:\n",
    "    print(i.name)"
   ]
  },
  {
   "cell_type": "code",
   "execution_count": 24,
   "id": "971345e4-a8a1-4d32-a3c4-3517cadff579",
   "metadata": {},
   "outputs": [
    {
     "name": "stdout",
     "output_type": "stream",
     "text": [
      "Microsoft David Desktop - English (United States)\n",
      "*****************\n",
      "[]\n",
      "*****************\n",
      "None\n",
      "Microsoft Zira Desktop - English (United States)\n",
      "*****************\n",
      "[]\n",
      "*****************\n",
      "None\n"
     ]
    }
   ],
   "source": [
    "for i in voices:\n",
    "    print(i.name)\n",
    "    print('*****************')\n",
    "    print(i.languages)\n",
    "    print('*****************')\n",
    "    print(i.gender)"
   ]
  },
  {
   "cell_type": "code",
   "execution_count": 26,
   "id": "0ce44789-002f-4046-bc2f-53a87bbe1b15",
   "metadata": {},
   "outputs": [
    {
     "name": "stdout",
     "output_type": "stream",
     "text": [
      "None\n",
      "None\n"
     ]
    }
   ],
   "source": [
    "for i in voices:\n",
    "    print(i.age)"
   ]
  },
  {
   "cell_type": "code",
   "execution_count": 27,
   "id": "58a62fb7-9e93-41fc-98f1-fcc38d007baf",
   "metadata": {},
   "outputs": [
    {
     "name": "stdout",
     "output_type": "stream",
     "text": [
      "None\n",
      "None\n"
     ]
    }
   ],
   "source": [
    "for i in voices:\n",
    "    print(i.gender)"
   ]
  },
  {
   "cell_type": "markdown",
   "id": "bf38ec33-0485-4d5b-a3e6-31837796f30e",
   "metadata": {},
   "source": [
    "# THEREFORE ONLY 2 VOICE IS AVAILABLE AND THAT TOO IN USA ENGLISH"
   ]
  },
  {
   "cell_type": "code",
   "execution_count": null,
   "id": "06624312-bd0e-464f-935d-3b1f93f83c92",
   "metadata": {},
   "outputs": [],
   "source": []
  }
 ],
 "metadata": {
  "kernelspec": {
   "display_name": "Python 3 (ipykernel)",
   "language": "python",
   "name": "python3"
  },
  "language_info": {
   "codemirror_mode": {
    "name": "ipython",
    "version": 3
   },
   "file_extension": ".py",
   "mimetype": "text/x-python",
   "name": "python",
   "nbconvert_exporter": "python",
   "pygments_lexer": "ipython3",
   "version": "3.12.4"
  }
 },
 "nbformat": 4,
 "nbformat_minor": 5
}
