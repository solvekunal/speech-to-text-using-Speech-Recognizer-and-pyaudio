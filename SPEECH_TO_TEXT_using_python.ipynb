{
 "cells": [
  {
   "cell_type": "code",
   "execution_count": 2,
   "id": "f872b20f-5329-499a-8b67-cd60a14b7f26",
   "metadata": {},
   "outputs": [
    {
     "name": "stdout",
     "output_type": "stream",
     "text": [
      "Defaulting to user installation because normal site-packages is not writeable\n",
      "Collecting SpeechRecognition\n",
      "  Using cached SpeechRecognition-3.10.4-py2.py3-none-any.whl.metadata (28 kB)\n",
      "Requirement already satisfied: requests>=2.26.0 in c:\\users\\hp\\appdata\\local\\packages\\pythonsoftwarefoundation.python.3.12_qbz5n2kfra8p0\\localcache\\local-packages\\python312\\site-packages (from SpeechRecognition) (2.32.3)\n",
      "Requirement already satisfied: typing-extensions in c:\\users\\hp\\appdata\\local\\packages\\pythonsoftwarefoundation.python.3.12_qbz5n2kfra8p0\\localcache\\local-packages\\python312\\site-packages (from SpeechRecognition) (4.12.2)\n",
      "Requirement already satisfied: charset-normalizer<4,>=2 in c:\\users\\hp\\appdata\\local\\packages\\pythonsoftwarefoundation.python.3.12_qbz5n2kfra8p0\\localcache\\local-packages\\python312\\site-packages (from requests>=2.26.0->SpeechRecognition) (3.3.2)\n",
      "Requirement already satisfied: idna<4,>=2.5 in c:\\users\\hp\\appdata\\local\\packages\\pythonsoftwarefoundation.python.3.12_qbz5n2kfra8p0\\localcache\\local-packages\\python312\\site-packages (from requests>=2.26.0->SpeechRecognition) (3.7)\n",
      "Requirement already satisfied: urllib3<3,>=1.21.1 in c:\\users\\hp\\appdata\\local\\packages\\pythonsoftwarefoundation.python.3.12_qbz5n2kfra8p0\\localcache\\local-packages\\python312\\site-packages (from requests>=2.26.0->SpeechRecognition) (2.2.2)\n",
      "Requirement already satisfied: certifi>=2017.4.17 in c:\\users\\hp\\appdata\\local\\packages\\pythonsoftwarefoundation.python.3.12_qbz5n2kfra8p0\\localcache\\local-packages\\python312\\site-packages (from requests>=2.26.0->SpeechRecognition) (2024.7.4)\n",
      "Using cached SpeechRecognition-3.10.4-py2.py3-none-any.whl (32.8 MB)\n",
      "Installing collected packages: SpeechRecognition\n",
      "Successfully installed SpeechRecognition-3.10.4\n",
      "Note: you may need to restart the kernel to use updated packages.\n"
     ]
    }
   ],
   "source": [
    "pip install SpeechRecognition"
   ]
  },
  {
   "cell_type": "markdown",
   "id": "1cf11b07-5244-4af0-a5d3-0d39feda9016",
   "metadata": {},
   "source": [
    "# #  pyaudio Required for microphone input"
   ]
  },
  {
   "cell_type": "code",
   "execution_count": 6,
   "id": "b93ebc14-10ee-4d3d-b791-d000641b8ed1",
   "metadata": {},
   "outputs": [
    {
     "name": "stdout",
     "output_type": "stream",
     "text": [
      "Defaulting to user installation because normal site-packages is not writeable\n",
      "Collecting pyaudio\n",
      "  Using cached PyAudio-0.2.14-cp312-cp312-win_amd64.whl.metadata (2.7 kB)\n",
      "Using cached PyAudio-0.2.14-cp312-cp312-win_amd64.whl (164 kB)\n",
      "Installing collected packages: pyaudio\n",
      "Successfully installed pyaudio-0.2.14\n",
      "Note: you may need to restart the kernel to use updated packages.\n"
     ]
    }
   ],
   "source": [
    "pip install pyaudio"
   ]
  },
  {
   "cell_type": "code",
   "execution_count": 8,
   "id": "7a157cac-488d-4f9f-a16d-c204906f6756",
   "metadata": {},
   "outputs": [],
   "source": [
    "import speech_recognition as sr"
   ]
  },
  {
   "cell_type": "code",
   "execution_count": 9,
   "id": "0e51d362-7d48-4006-b09a-2cac11082e5d",
   "metadata": {},
   "outputs": [],
   "source": [
    "# Initialize recognizer\n",
    "recognizer = sr.Recognizer()"
   ]
  },
  {
   "cell_type": "code",
   "execution_count": 10,
   "id": "ba835cae-ce7b-4770-97d1-d163c89b7652",
   "metadata": {},
   "outputs": [
    {
     "name": "stdout",
     "output_type": "stream",
     "text": [
      "Adjusting for ambient noise, please wait...\n",
      "Say something:\n",
      "You said: mera naam Kunal Singh hai\n"
     ]
    }
   ],
   "source": [
    "# Use the default microphone as the source\n",
    "with sr.Microphone() as source:\n",
    "    print(\"Adjusting for ambient noise, please wait...\")\n",
    "    recognizer.adjust_for_ambient_noise(source)\n",
    "    print(\"Say something:\")\n",
    "    audio = recognizer.listen(source)\n",
    "\n",
    "    try:\n",
    "        # Recognize speech using Google Web Speech API\n",
    "        text = recognizer.recognize_google(audio)\n",
    "        print(\"You said: \" + text)\n",
    "    except sr.UnknownValueError:\n",
    "        print(\"Google Web Speech API could not understand audio\")\n",
    "    except sr.RequestError:\n",
    "        print(\"Could not request results from Google Web Speech API\")"
   ]
  },
  {
   "cell_type": "code",
   "execution_count": 5,
   "id": "0df9c8cd-3004-494c-b79a-d44fc0dc8629",
   "metadata": {},
   "outputs": [
    {
     "data": {
      "text/plain": [
       "range(0, 3)"
      ]
     },
     "execution_count": 5,
     "metadata": {},
     "output_type": "execute_result"
    }
   ],
   "source": [
    "range(0,3)"
   ]
  },
  {
   "cell_type": "code",
   "execution_count": 6,
   "id": "b4def34e-a56d-4253-8ad4-2aae52e9d99f",
   "metadata": {},
   "outputs": [
    {
     "name": "stdout",
     "output_type": "stream",
     "text": [
      "0\n",
      "1\n",
      "2\n",
      "3\n",
      "4\n",
      "5\n"
     ]
    }
   ],
   "source": [
    "x = range(6)\n",
    "for n in x:\n",
    "  print(n)"
   ]
  },
  {
   "cell_type": "markdown",
   "id": "bc47d327-e652-44d2-af39-578187737d39",
   "metadata": {},
   "source": [
    "# GETTING 3 SPEECH INPUTS IN A LOOP AND THEN DOING SPEECH TO TEXT"
   ]
  },
  {
   "cell_type": "code",
   "execution_count": 11,
   "id": "90fe4c7d-b986-4157-826b-2d0667642531",
   "metadata": {},
   "outputs": [
    {
     "name": "stdout",
     "output_type": "stream",
     "text": [
      "Adjusting for ambient noise, please wait...\n",
      "Say something:\n",
      "You said: Humra Kurkure chahie lekin Humra na Mili Thi Yahan\n",
      "Adjusting for ambient noise, please wait...\n",
      "Say something:\n",
      "You said: Ab Tu Hi bataen ki Ham Tu Hi bataen ki Ham Kya kariye\n",
      "Adjusting for ambient noise, please wait...\n",
      "Say something:\n",
      "You said: Agali bar se Ham Yahan karvai\n"
     ]
    }
   ],
   "source": [
    "for i in range(3):\n",
    "   with sr.Microphone() as source:\n",
    "        print(\"Adjusting for ambient noise, please wait...\")\n",
    "        recognizer.adjust_for_ambient_noise(source)\n",
    "        print(\"Say something:\")\n",
    "        audio = recognizer.listen(source)\n",
    "\n",
    "        try:\n",
    "        # Recognize speech using Google Web Speech API\n",
    "           text = recognizer.recognize_google(audio)\n",
    "           print(\"You said: \" + text)\n",
    "        except sr.UnknownValueError:\n",
    "               print(\"Google Web Speech API could not understand audio\")\n",
    "        except sr.RequestError:\n",
    "               print(\"Could not request results from Google Web Speech API\")"
   ]
  },
  {
   "cell_type": "code",
   "execution_count": null,
   "id": "fc524282-f06f-4e7d-b79e-a0a3d6c062d9",
   "metadata": {},
   "outputs": [],
   "source": []
  }
 ],
 "metadata": {
  "kernelspec": {
   "display_name": "Python 3 (ipykernel)",
   "language": "python",
   "name": "python3"
  },
  "language_info": {
   "codemirror_mode": {
    "name": "ipython",
    "version": 3
   },
   "file_extension": ".py",
   "mimetype": "text/x-python",
   "name": "python",
   "nbconvert_exporter": "python",
   "pygments_lexer": "ipython3",
   "version": "3.12.4"
  }
 },
 "nbformat": 4,
 "nbformat_minor": 5
}
